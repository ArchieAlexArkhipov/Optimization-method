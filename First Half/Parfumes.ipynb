{
 "cells": [
  {
   "cell_type": "markdown",
   "metadata": {},
   "source": [
    "Условие задачи https://caseine.org/mod/vpl/view.php?id=7304"
   ]
  },
  {
   "cell_type": "code",
   "execution_count": null,
   "metadata": {},
   "outputs": [],
   "source": [
    "import cvxpy as cp"
   ]
  },
  {
   "cell_type": "code",
   "execution_count": 8,
   "metadata": {},
   "outputs": [
    {
     "name": "stdout",
     "output_type": "stream",
     "text": [
      "x = [2. 6.]\n",
      "\n",
      "profit = 3600.0\n",
      "\n"
     ]
    }
   ],
   "source": [
    "import cvxpy as cp\n",
    "import numpy as np\n",
    "\n",
    "# Problem data.\n",
    "A1 = 1\n",
    "B1 = 0\n",
    "C1 = 3\n",
    "\n",
    "A2 = 0\n",
    "B2 = 2\n",
    "C2 = 2\n",
    "\n",
    "A = 4\n",
    "B = 12\n",
    "C = 18\n",
    "\n",
    "# Construct the problem.\n",
    "x = cp.Variable(2)\n",
    "objective = cp.Maximize(300*x[0] + 500*x[1])\n",
    "constraints = [A1*x[0] + A2*x[1] <= A, B1*x[0] + B2*x[1] <= B, C1*x[0] + C2*x[1] <= C]\n",
    "prob = cp.Problem(objective, constraints)\n",
    "\n",
    "# The optimal objective value is returned by `prob.solve()`.\n",
    "result = prob.solve()\n",
    "# The optimal value for x is stored in `x.value`.\n",
    "print('x = {}\\n'.format(x.value))\n",
    "print('profit = {}\\n'.format(result))"
   ]
  },
  {
   "cell_type": "code",
   "execution_count": null,
   "metadata": {},
   "outputs": [],
   "source": []
  }
 ],
 "metadata": {
  "kernelspec": {
   "display_name": "Python 3",
   "language": "python",
   "name": "python3"
  },
  "language_info": {
   "codemirror_mode": {
    "name": "ipython",
    "version": 3
   },
   "file_extension": ".py",
   "mimetype": "text/x-python",
   "name": "python",
   "nbconvert_exporter": "python",
   "pygments_lexer": "ipython3",
   "version": "3.5.2"
  }
 },
 "nbformat": 4,
 "nbformat_minor": 2
}
