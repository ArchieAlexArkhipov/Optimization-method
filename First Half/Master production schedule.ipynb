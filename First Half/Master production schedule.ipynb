{
 "cells": [
  {
   "cell_type": "markdown",
   "metadata": {},
   "source": [
    "Condition https://caseine.org/mod/vpl/view.php?id=10037"
   ]
  },
  {
   "cell_type": "code",
   "execution_count": 11,
   "metadata": {},
   "outputs": [],
   "source": [
    "import numpy as np\n",
    "import cvxpy as cp"
   ]
  },
  {
   "cell_type": "code",
   "execution_count": 12,
   "metadata": {},
   "outputs": [],
   "source": [
    "x = cp.Variable(2)#count of P and Q"
   ]
  },
  {
   "cell_type": "code",
   "execution_count": 13,
   "metadata": {},
   "outputs": [],
   "source": [
    "#count of \n",
    "MP1 = x[0]\n",
    "MP2 = x[0] + x[1]\n",
    "MP3 = x[0] + x[1]\n",
    "\n",
    "#working time of each machine\n",
    "A = MP1*15 \n",
    "B = MP2*15 + x[1]*15\n",
    "C = MP3*5 + x[0]*15\n",
    "D = x[0]*15 + x[1]*5\n",
    "\n",
    "profit = x[0]*90 + x[1]*100 - (MP1*5 + MP2*20 + MP3*20)"
   ]
  },
  {
   "cell_type": "code",
   "execution_count": 17,
   "metadata": {},
   "outputs": [],
   "source": [
    "constraints = [0 <= A, 0 <= B, 0 <= C, 0 <= D, A <= 2400, B <= 2400, C <= 2400, D <= 2400, x[0] >= 0, x[1] >= 0]\n",
    "\n",
    "objective = cp.Maximize(profit)\n",
    "\n",
    "prob = cp.Problem(objective, constraints)\n",
    "\n",
    "result = prob.solve()\n"
   ]
  },
  {
   "cell_type": "code",
   "execution_count": 18,
   "metadata": {},
   "outputs": [
    {
     "name": "stdout",
     "output_type": "stream",
     "text": [
      "x = [114.28571429  22.85714286]\n",
      "\n",
      "profit = 6514.285714285714\n",
      "\n"
     ]
    }
   ],
   "source": [
    "print('x = {}\\n'.format(x.value))\n",
    "print('profit = {}\\n'.format(result))"
   ]
  },
  {
   "cell_type": "code",
   "execution_count": null,
   "metadata": {},
   "outputs": [],
   "source": []
  }
 ],
 "metadata": {
  "kernelspec": {
   "display_name": "Python 3",
   "language": "python",
   "name": "python3"
  },
  "language_info": {
   "codemirror_mode": {
    "name": "ipython",
    "version": 3
   },
   "file_extension": ".py",
   "mimetype": "text/x-python",
   "name": "python",
   "nbconvert_exporter": "python",
   "pygments_lexer": "ipython3",
   "version": "3.7.2"
  }
 },
 "nbformat": 4,
 "nbformat_minor": 2
}
