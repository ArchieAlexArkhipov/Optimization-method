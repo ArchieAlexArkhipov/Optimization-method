{
 "cells": [
  {
   "cell_type": "markdown",
   "metadata": {},
   "source": [
    "Условие задачи https://caseine.org/mod/vpl/view.php?id=7306"
   ]
  },
  {
   "cell_type": "code",
   "execution_count": 1,
   "metadata": {},
   "outputs": [],
   "source": [
    "import numpy as np\n",
    "import cvxpy as cp"
   ]
  },
  {
   "cell_type": "code",
   "execution_count": 2,
   "metadata": {},
   "outputs": [],
   "source": [
    "x = cp.Variable(4)#count of produced juice, cidre, distilation of juice, distilation of cidre"
   ]
  },
  {
   "cell_type": "code",
   "execution_count": 4,
   "metadata": {},
   "outputs": [],
   "source": [
    "juice = x[0] - x[2]\n",
    "cidre = x[1] + 0.6*x[2] - x[3]\n",
    "calvados = 0.4*x[3]"
   ]
  },
  {
   "cell_type": "code",
   "execution_count": 6,
   "metadata": {},
   "outputs": [],
   "source": [
    "objective = cp.Maximize(-x[0]*1500/500 - x[1]*1500/250 + 4*juice + 8*cidre +10*calvados)\n",
    "constraints = [juice <= 5000, juice >= 0, cidre <= 2000, cidre >= 0, calvados <= 500, calvados >= 0, x[0] >= 0, x[1] >= 0, x[2] >= 0, x[3] >= 0]\n",
    "problem = cp.Problem(objective, constraints)\n",
    "\n",
    "result = problem.solve()"
   ]
  },
  {
   "cell_type": "code",
   "execution_count": 7,
   "metadata": {},
   "outputs": [
    {
     "name": "stdout",
     "output_type": "stream",
     "text": [
      "x = [ 8.33333333e+03  3.03423195e-19  3.33333333e+03 -1.46985779e-19]\n",
      "\n",
      "profit = 11000.0\n",
      "\n"
     ]
    }
   ],
   "source": [
    "print('x = {}\\n'.format(x.value))\n",
    "print('profit = {}\\n'.format(result))"
   ]
  },
  {
   "cell_type": "code",
   "execution_count": null,
   "metadata": {},
   "outputs": [],
   "source": []
  }
 ],
 "metadata": {
  "kernelspec": {
   "display_name": "Python 3",
   "language": "python",
   "name": "python3"
  },
  "language_info": {
   "codemirror_mode": {
    "name": "ipython",
    "version": 3
   },
   "file_extension": ".py",
   "mimetype": "text/x-python",
   "name": "python",
   "nbconvert_exporter": "python",
   "pygments_lexer": "ipython3",
   "version": "3.5.2"
  }
 },
 "nbformat": 4,
 "nbformat_minor": 2
}
